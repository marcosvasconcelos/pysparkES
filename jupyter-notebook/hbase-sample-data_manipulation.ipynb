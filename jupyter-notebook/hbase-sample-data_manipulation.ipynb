{
 "cells": [
  {
   "cell_type": "code",
   "execution_count": 177,
   "id": "4f0cc307-59a1-4178-b48a-c9fae7201ff5",
   "metadata": {},
   "outputs": [],
   "source": [
    "import happybase\n",
    "from datetime import datetime\n",
    "\n",
    "connection = happybase.Connection('192.168.15.56',9090, autoconnect=True)\n",
    "\n",
    "# before first use:\n",
    "connection.open()"
   ]
  },
  {
   "cell_type": "code",
   "execution_count": 178,
   "id": "065a8b26-17c4-441b-ac50-8b1c731cb164",
   "metadata": {},
   "outputs": [
    {
     "name": "stdout",
     "output_type": "stream",
     "text": [
      "[b'mytable']\n"
     ]
    }
   ],
   "source": [
    "print(connection.tables())"
   ]
  },
  {
   "cell_type": "code",
   "execution_count": 179,
   "id": "ea4b1cca-dbfc-4a61-b3df-8f9306d593b3",
   "metadata": {},
   "outputs": [],
   "source": [
    "##connection.create_table(\n",
    "##    'mytable',\n",
    "#    {'cf1': dict(max_versions=10),\n",
    "#     'cf2': dict(max_versions=1, block_cache_enabled=False),\n",
    "#     'cf3': dict(),  # use defaults\n",
    "#    }\n",
    "##)"
   ]
  },
  {
   "cell_type": "code",
   "execution_count": 180,
   "id": "0f169d69-ca5e-4d1a-9194-ea29fa315d59",
   "metadata": {},
   "outputs": [
    {
     "name": "stdout",
     "output_type": "stream",
     "text": [
      "<happybase.table.Table name=b'mytable'>\n"
     ]
    }
   ],
   "source": [
    "table = connection.table('mytable')\n",
    "## just print python object\n",
    "print(str(table))"
   ]
  },
  {
   "cell_type": "code",
   "execution_count": 181,
   "id": "2a1dae86-f159-4cf9-b136-3c8b1002d4b4",
   "metadata": {},
   "outputs": [],
   "source": [
    "### --> Put simple data to mytable -\n",
    "### Pay attention: You need add values for each column cf1,cf2,cf3\n",
    "table.put('row-key',{'cf1:name': 'value1',\n",
    "                       'cf2:surname': 'value2',\n",
    "                       'cf3:middle_name': 'value3'})"
   ]
  },
  {
   "cell_type": "code",
   "execution_count": 182,
   "id": "8169d076-3b11-48ac-9095-cf071d6c060e",
   "metadata": {},
   "outputs": [],
   "source": [
    "now = datetime.now()\n",
    "\n",
    "ts = datetime.timestamp(now)\n",
    "table.put('row-key1',{'cf1:name':'Marcos',\n",
    "          'cf2:surname':'Silva',\n",
    "          'cf3:middle_name':'Vinicius Vasconcelos'})"
   ]
  },
  {
   "cell_type": "code",
   "execution_count": 184,
   "id": "8fcd3842-ca80-43ce-a2d5-bf8d8ec32ff4",
   "metadata": {},
   "outputs": [
    {
     "name": "stdout",
     "output_type": "stream",
     "text": [
      "(b'row-key', {b'cf1:name': b'value1', b'cf1:nome': b'Marcos', b'cf2:surname': b'value2', b'cf3:middle_name': b'value3', b'cf3:middlew_name': b'Vinicius Vasconcelos'})\n",
      "(b'row-key1', {b'cf1:col1': b'value1', b'cf1:name': b'Marcos', b'cf2:col2': b'value2', b'cf2:surname': b'Silva', b'cf3:col3': b'value3', b'cf3:middle_name': b'Vinicius Vasconcelos'})\n",
      " ######################################################################################\n",
      " ######################################################################################\n",
      " ######################################################################################\n",
      "\n",
      "'Nome': 'value1' ,  'Sobre nome': 'value2'\n",
      "'Nome': 'Marcos' ,  'Sobre nome': 'Silva'\n"
     ]
    }
   ],
   "source": [
    "import json\n",
    "rws = table.rows([b'row-key',b'row-key1'])\n",
    "for r in rws:\n",
    "    print(str(r))\n",
    "\n",
    "###\n",
    "print(' ######################################################################################\\n \\\n",
    "######################################################################################\\n \\\n",
    "######################################################################################\\n')\n",
    "for key,data in rws:\n",
    "    print(\"\\'Nome\\':\",str(data[b'cf1:name']).replace('b\\'','\\''), \", \",\"\\'Sobre nome\\':\",str(data[b'cf2:surname']).replace('b\\'','\\''))\n",
    "    #print(\"Nome: \", dt[\"cf1:name\"], \", \",\"Sobre nome: \", dt[\"cf2:surname\"])"
   ]
  },
  {
   "cell_type": "code",
   "execution_count": null,
   "id": "2c08428b-b461-4e69-bb48-1dff3eed82fb",
   "metadata": {},
   "outputs": [],
   "source": []
  }
 ],
 "metadata": {
  "kernelspec": {
   "display_name": "Python 3 (ipykernel)",
   "language": "python",
   "name": "python3"
  },
  "language_info": {
   "codemirror_mode": {
    "name": "ipython",
    "version": 3
   },
   "file_extension": ".py",
   "mimetype": "text/x-python",
   "name": "python",
   "nbconvert_exporter": "python",
   "pygments_lexer": "ipython3",
   "version": "3.9.7"
  }
 },
 "nbformat": 4,
 "nbformat_minor": 5
}
